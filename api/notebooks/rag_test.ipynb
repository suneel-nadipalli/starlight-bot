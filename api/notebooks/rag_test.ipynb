{
 "cells": [
  {
   "cell_type": "code",
   "execution_count": 1,
   "metadata": {},
   "outputs": [
    {
     "name": "stderr",
     "output_type": "stream",
     "text": [
      "USER_AGENT environment variable not set, consider setting it to identify your requests.\n"
     ]
    },
    {
     "data": {
      "text/plain": [
       "True"
      ]
     },
     "execution_count": 1,
     "metadata": {},
     "output_type": "execute_result"
    }
   ],
   "source": [
    "from langchain_openai import OpenAIEmbeddings\n",
    "\n",
    "from langchain_community.vectorstores import MongoDBAtlasVectorSearch\n",
    "\n",
    "from langchain_community.document_loaders import PyPDFLoader, TextLoader, WebBaseLoader\n",
    "\n",
    "from langchain.text_splitter import RecursiveCharacterTextSplitter\n",
    "\n",
    "from dotenv import load_dotenv\n",
    "\n",
    "from glob import glob\n",
    "\n",
    "load_dotenv(dotenv_path=\"../.env.local\")"
   ]
  },
  {
   "cell_type": "code",
   "execution_count": 2,
   "metadata": {},
   "outputs": [],
   "source": [
    "def get_chunks(loader):\n",
    "        \n",
    "    data = loader.load()\n",
    "\n",
    "    text_splitter = RecursiveCharacterTextSplitter(chunk_size=300, \n",
    "                                                    chunk_overlap=100)\n",
    "    chunks = text_splitter.split_documents(data)\n",
    "\n",
    "    return chunks"
   ]
  },
  {
   "cell_type": "code",
   "execution_count": 3,
   "metadata": {},
   "outputs": [],
   "source": [
    "def get_urls(file):\n",
    "\n",
    "    with open(file) as file:\n",
    "        urls = [line.rstrip() for line in file]\n",
    "    \n",
    "    return urls"
   ]
  },
  {
   "cell_type": "code",
   "execution_count": 4,
   "metadata": {},
   "outputs": [],
   "source": [
    "def get_data(dir):\n",
    "\n",
    "    chunks = []\n",
    "\n",
    "    for file in glob(f\"{dir}/*\"):\n",
    "        if file.endswith(\".pdf\"):\n",
    "        \n",
    "            loader = PyPDFLoader(file) \n",
    "            chunks.extend(get_chunks(loader))\n",
    "\n",
    "        elif file.endswith(\".txt\"):\n",
    "\n",
    "            if \"urls\" in file:\n",
    "                print(file)\n",
    "                urls = get_urls(file)\n",
    "                loader = WebBaseLoader(urls)\n",
    "            else:        \n",
    "                loader = TextLoader(file)\n",
    "\n",
    "            chunks.extend(get_chunks(loader))\n",
    "        \n",
    "    return chunks\n"
   ]
  },
  {
   "cell_type": "code",
   "execution_count": 5,
   "metadata": {},
   "outputs": [
    {
     "name": "stdout",
     "output_type": "stream",
     "text": [
      "../../data-src\\dark-knight-urls.txt\n",
      "../../data-src\\into-the-sv-urls.txt\n"
     ]
    }
   ],
   "source": [
    "chunks = get_data(\"../../data-src\")"
   ]
  },
  {
   "cell_type": "code",
   "execution_count": 26,
   "metadata": {},
   "outputs": [
    {
     "data": {
      "text/plain": [
       "{'source': 'https://www.imdb.com/title/tt4633694/awards/',\n",
       " 'title': 'Spider-Man: Into the Spider-Verse (2018) - Awards - IMDb',\n",
       " 'description': 'Spider-Man: Into the Spider-Verse (2018) - Awards, nominations, and wins',\n",
       " 'language': 'en-US'}"
      ]
     },
     "execution_count": 26,
     "metadata": {},
     "output_type": "execute_result"
    }
   ],
   "source": [
    "chunks[-70].metadata"
   ]
  },
  {
   "cell_type": "code",
   "execution_count": null,
   "metadata": {},
   "outputs": [],
   "source": []
  }
 ],
 "metadata": {
  "kernelspec": {
   "display_name": ".venv",
   "language": "python",
   "name": "python3"
  },
  "language_info": {
   "codemirror_mode": {
    "name": "ipython",
    "version": 3
   },
   "file_extension": ".py",
   "mimetype": "text/x-python",
   "name": "python",
   "nbconvert_exporter": "python",
   "pygments_lexer": "ipython3",
   "version": "3.11.8"
  }
 },
 "nbformat": 4,
 "nbformat_minor": 2
}
