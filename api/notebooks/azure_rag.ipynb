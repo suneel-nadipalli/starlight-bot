{
 "cells": [
  {
   "cell_type": "code",
   "execution_count": 7,
   "metadata": {},
   "outputs": [],
   "source": [
    "import sys\n",
    "\n",
    "sys.path.append(\"..\")\n",
    "\n",
    "from dotenv import load_dotenv\n",
    "\n",
    "load_dotenv(dotenv_path=\"../.env.local\")\n",
    "\n",
    "from rag_utils import *"
   ]
  },
  {
   "cell_type": "code",
   "execution_count": 8,
   "metadata": {},
   "outputs": [],
   "source": [
    "context = []\n",
    "\n",
    "query = \"How did Miles Morales get his powers?\"\n",
    "\n",
    "answer = az_rag_query(query)"
   ]
  },
  {
   "cell_type": "code",
   "execution_count": 9,
   "metadata": {},
   "outputs": [
    {
     "data": {
      "text/plain": [
       "'Miles Morales acquired his powers after being bitten by a radioactive spider. He narrates this in the script, stating, \"My name is Miles Morales. I was bitten by a radioactive spider\" [doc1].'"
      ]
     },
     "execution_count": 9,
     "metadata": {},
     "output_type": "execute_result"
    }
   ],
   "source": [
    "answer"
   ]
  },
  {
   "cell_type": "code",
   "execution_count": 10,
   "metadata": {},
   "outputs": [],
   "source": [
    "context.append(\n",
    "    {\n",
    "        \"query\": query,\n",
    "        \"reply\": answer\n",
    "    }\n",
    ") \n",
    "\n",
    "\n",
    "new_query = \"What about Peter B Parker?\"\n",
    "\n",
    "data = {\n",
    "    \"query\": new_query,\n",
    "    \"context\": context\n",
    "}"
   ]
  },
  {
   "cell_type": "code",
   "execution_count": 11,
   "metadata": {},
   "outputs": [
    {
     "data": {
      "text/plain": [
       "{'query': 'What about Peter B Parker?',\n",
       " 'context': [{'query': 'How did Miles Morales get his powers?',\n",
       "   'reply': 'Miles Morales acquired his powers after being bitten by a radioactive spider. He narrates this in the script, stating, \"My name is Miles Morales. I was bitten by a radioactive spider\" [doc1].'}]}"
      ]
     },
     "execution_count": 11,
     "metadata": {},
     "output_type": "execute_result"
    }
   ],
   "source": [
    "data"
   ]
  },
  {
   "cell_type": "code",
   "execution_count": 14,
   "metadata": {},
   "outputs": [],
   "source": [
    "body = f\"\"\"\n",
    "Use the following context, presented in the format of a Python list containing the previous\n",
    "question-answer pairs in a dictionary, to answer the next question provided by the user:\n",
    "\n",
    "context: {context}\n",
    "\n",
    "question: {new_query}\n",
    "\n",
    "\"\"\" "
   ]
  },
  {
   "cell_type": "code",
   "execution_count": 15,
   "metadata": {},
   "outputs": [],
   "source": [
    "new_answer = az_rag_query(body)"
   ]
  },
  {
   "cell_type": "code",
   "execution_count": 16,
   "metadata": {},
   "outputs": [
    {
     "data": {
      "text/plain": [
       "'Peter B. Parker acquired his powers in a similar manner to Miles Morales. He was bitten by a radioactive spider, as he narrates in the script, saying, \"I was bitten by a radioactive spider\" [doc1].'"
      ]
     },
     "execution_count": 16,
     "metadata": {},
     "output_type": "execute_result"
    }
   ],
   "source": [
    "new_answer"
   ]
  },
  {
   "cell_type": "code",
   "execution_count": null,
   "metadata": {},
   "outputs": [],
   "source": []
  }
 ],
 "metadata": {
  "kernelspec": {
   "display_name": ".venv",
   "language": "python",
   "name": "python3"
  },
  "language_info": {
   "codemirror_mode": {
    "name": "ipython",
    "version": 3
   },
   "file_extension": ".py",
   "mimetype": "text/x-python",
   "name": "python",
   "nbconvert_exporter": "python",
   "pygments_lexer": "ipython3",
   "version": "3.11.8"
  }
 },
 "nbformat": 4,
 "nbformat_minor": 2
}
